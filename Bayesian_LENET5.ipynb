{
  "nbformat": 4,
  "nbformat_minor": 0,
  "metadata": {
    "colab": {
      "name": "Bayesian LENET5.ipynb",
      "provenance": [],
      "collapsed_sections": []
    },
    "kernelspec": {
      "name": "python3",
      "display_name": "Python 3"
    }
  },
  "cells": [
    {
      "cell_type": "code",
      "metadata": {
        "id": "2tA2OtyLTZNt",
        "colab_type": "code",
        "colab": {}
      },
      "source": [
        "import seaborn as sns\n",
        "import tensorflow as tf\n",
        "from tensorflow import keras\n",
        "from tensorflow.keras import layers\n",
        "from sklearn.preprocessing import StandardScaler\n",
        "import numpy as np\n",
        "import tensorflow_probability as tfp\n",
        "tfd = tfp.distributions\n",
        "import matplotlib\n",
        "from matplotlib import figure  # pylint: disable=g-import-not-at-top\n",
        "from matplotlib.backends import backend_agg\n",
        "\n",
        "import os\n"
      ],
      "execution_count": 0,
      "outputs": []
    },
    {
      "cell_type": "code",
      "metadata": {
        "id": "G226IvEP1BHy",
        "colab_type": "code",
        "outputId": "0a26c199-6965-45d5-e778-64b2b3e5cf15",
        "colab": {
          "base_uri": "https://localhost:8080/",
          "height": 104
        }
      },
      "source": [
        "print('Loading MNIST dataset')\n",
        "n_class = 10\n",
        "(X_train, y_train), (X_test, y_test) = tf.keras.datasets.mnist.load_data()\n",
        "X_train = np.expand_dims(X_train, -1)\n",
        "n_train = X_train.shape[0]\n",
        "X_test = np.expand_dims(X_test, -1)\n",
        "y_train = tf.keras.utils.to_categorical(y_train, n_class)\n",
        "y_test = tf.keras.utils.to_categorical(y_test, n_class)\n",
        "\n",
        "X_train = X_train.astype('float32') / 255\n",
        "X_test = X_test.astype('float32') / 255\n",
        "\n",
        "NUM_TRAIN_EXAMPLES=X_train.shape[0]\n",
        "\n",
        "batch_size = 128\n",
        "n_epochs = 20\n",
        "lr = 1e-3\n",
        "print(\"X_train.shape =\", X_train.shape)\n",
        "print(\"y_train.shape =\", y_train.shape)\n",
        "print(\"X_test.shape =\", X_test.shape)\n",
        "print(\"y_test.shape =\", y_test.shape)"
      ],
      "execution_count": 0,
      "outputs": [
        {
          "output_type": "stream",
          "text": [
            "Loading MNIST dataset\n",
            "X_train.shape = (60000, 28, 28, 1)\n",
            "y_train.shape = (60000, 10)\n",
            "X_test.shape = (10000, 28, 28, 1)\n",
            "y_test.shape = (10000, 10)\n"
          ],
          "name": "stdout"
        }
      ]
    },
    {
      "cell_type": "code",
      "metadata": {
        "id": "fwegLyc7TzkZ",
        "colab_type": "code",
        "colab": {}
      },
      "source": [
        "def build_model():\n",
        "\n",
        "  kl_divergence_function = (lambda q, p, _: tfd.kl_divergence(q, p) /  # pylint: disable=g-long-lambda\n",
        "                            tf.cast(NUM_TRAIN_EXAMPLES, dtype=tf.float32))\n",
        "\n",
        "  model= keras.Sequential([\n",
        "                           tfp.layers.Convolution2DFlipout(20, kernel_size=(5,5), strides=(1, 1),padding=\"same\", kernel_divergence_fn=kl_divergence_function, activation='relu'),\n",
        "                           layers.MaxPool2D( pool_size = (2, 2),strides =  (2, 2)),\n",
        "                           tfp.layers.Convolution2DFlipout(50, kernel_size=(5,5),strides=(1, 1), padding=\"same\", kernel_divergence_fn=kl_divergence_function, activation='relu'),\n",
        "                           layers.MaxPool2D( pool_size = (2, 2),strides =  (2, 2)),\n",
        "                           layers.Flatten(),\n",
        "                           tfp.layers.DenseFlipout(500,kernel_divergence_fn=kl_divergence_function, activation='relu'),\n",
        "                           tfp.layers.DenseFlipout(10,kernel_divergence_fn=kl_divergence_function, activation='softmax')                     \n",
        "  ])\n",
        "\n",
        "\n",
        "\n",
        "\n",
        "  model.compile(loss='categorical_crossentropy',\n",
        "                optimizer=keras.optimizers.Adam(learning_rate=0.001),\n",
        "                metrics=['accuracy'], experimental_run_tf_function=False)\n",
        "  return model"
      ],
      "execution_count": 0,
      "outputs": []
    },
    {
      "cell_type": "code",
      "metadata": {
        "id": "AQTfp_qBYHS5",
        "colab_type": "code",
        "outputId": "5fbd6018-34ac-40e5-e02d-8ccdb5ab2fe9",
        "colab": {
          "base_uri": "https://localhost:8080/",
          "height": 471
        }
      },
      "source": [
        "model=build_model()\n",
        "model.build(input_shape=[None, 28, 28, 1])\n",
        "model.summary()"
      ],
      "execution_count": 0,
      "outputs": [
        {
          "output_type": "stream",
          "text": [
            "WARNING:tensorflow:From /usr/local/lib/python3.6/dist-packages/tensorflow_probability/python/layers/util.py:106: Layer.add_variable (from tensorflow.python.keras.engine.base_layer) is deprecated and will be removed in a future version.\n",
            "Instructions for updating:\n",
            "Please use `layer.add_weight` method instead.\n",
            "Model: \"sequential\"\n",
            "_________________________________________________________________\n",
            "Layer (type)                 Output Shape              Param #   \n",
            "=================================================================\n",
            "conv2d_flipout (Conv2DFlipou multiple                  1020      \n",
            "_________________________________________________________________\n",
            "max_pooling2d (MaxPooling2D) multiple                  0         \n",
            "_________________________________________________________________\n",
            "conv2d_flipout_1 (Conv2DFlip multiple                  50050     \n",
            "_________________________________________________________________\n",
            "max_pooling2d_1 (MaxPooling2 multiple                  0         \n",
            "_________________________________________________________________\n",
            "flatten (Flatten)            multiple                  0         \n",
            "_________________________________________________________________\n",
            "dense_flipout (DenseFlipout) multiple                  2450500   \n",
            "_________________________________________________________________\n",
            "dense_flipout_1 (DenseFlipou multiple                  10010     \n",
            "=================================================================\n",
            "Total params: 2,511,580\n",
            "Trainable params: 2,511,580\n",
            "Non-trainable params: 0\n",
            "_________________________________________________________________\n"
          ],
          "name": "stdout"
        }
      ]
    },
    {
      "cell_type": "code",
      "metadata": {
        "id": "q4gX5jkSZRSD",
        "colab_type": "code",
        "colab": {}
      },
      "source": [
        "class LossAndErrorPrintingCallback(tf.keras.callbacks.Callback):\n",
        "  def on_epoch_end(self, epoch, logs=None):\n",
        "    fig = figure.Figure(figsize=(6, 6))\n",
        "    names = [layer.name for layer in model.layers\n",
        "                   if 'flipout' in layer.name]\n",
        "    qm_vals = [layer.kernel_posterior.mean()\n",
        "                     for layer in model.layers\n",
        "                     if 'flipout' in layer.name]\n",
        "    qs_vals = [layer.kernel_posterior.stddev()\n",
        "                     for layer in model.layers\n",
        "                     if 'flipout' in layer.name]\n",
        "    ax = fig.add_subplot(1, 2, 1)\n",
        "    for n, qm in zip(names, qm_vals):\n",
        "        sns.distplot(tf.reshape(qm, shape=[-1]), ax=ax, label=n)\n",
        "    ax.set_title('weight means')\n",
        "    ax.set_xlim([-1.5, 1.5])\n",
        "    ax.legend()\n",
        "    \n",
        "    ax = fig.add_subplot(1, 2, 2)\n",
        "    for n, qs in zip(names, qs_vals):\n",
        "        sns.distplot(tf.reshape(qs, shape=[-1]), ax=ax)\n",
        "    ax.set_title('weight stddevs')\n",
        "    ax.set_xlim([0, 1.])\n",
        "\n",
        "\n",
        "    print('The average loss for epoch {} is {:7.2f} '.format(epoch, logs['loss'] ))\n",
        "\n",
        "EPOCHS = 10\n",
        "history = model.fit(\n",
        "  X_train, y_train,batch_size=64,\n",
        "  epochs=EPOCHS, validation_split = 0.2, verbose=0,\n",
        "  callbacks=[LossAndErrorPrintingCallback()])"
      ],
      "execution_count": 0,
      "outputs": []
    },
    {
      "cell_type": "code",
      "metadata": {
        "id": "WkkE0nuDAX14",
        "colab_type": "code",
        "outputId": "37e3c1c4-42da-406a-a532-807006ee7438",
        "colab": {
          "base_uri": "https://localhost:8080/",
          "height": 35
        }
      },
      "source": [
        "fig = figure.Figure(figsize=(6, 6))\n",
        "names = [layer.name for layer in model.layers\n",
        "                   if 'flipout' in layer.name]\n",
        "qm_vals = [layer.kernel_posterior.mean()\n",
        "                     for layer in model.layers\n",
        "                     if 'flipout' in layer.name]\n",
        "qs_vals = [layer.kernel_posterior.stddev()\n",
        "                     for layer in model.layers\n",
        "                     if 'flipout' in layer.name]\n",
        "ax = fig.add_subplot(1, 2, 1)\n",
        "for n, qm in zip(names, qm_vals):\n",
        "  sns.distplot(tf.reshape(qm, shape=[-1]), ax=ax, label=n)\n",
        "ax.set_title('weight means')\n",
        "ax.set_xlim([-1.5, 1.5])\n",
        "ax.legend()\n",
        "    \n",
        "ax = fig.add_subplot(1, 2, 2)\n",
        "for n, qs in zip(names, qs_vals):\n",
        "  sns.distplot(tf.reshape(qs, shape=[-1]), ax=ax)\n",
        "ax.set_title('weight stddevs')\n",
        "ax.set_xlim([0, 1.])"
      ],
      "execution_count": 0,
      "outputs": [
        {
          "output_type": "execute_result",
          "data": {
            "text/plain": [
              "(0.0, 1.0)"
            ]
          },
          "metadata": {
            "tags": []
          },
          "execution_count": 14
        }
      ]
    },
    {
      "cell_type": "code",
      "metadata": {
        "id": "SWWjDV_TlkEF",
        "colab_type": "code",
        "outputId": "ac832175-49bb-4afa-8c1c-123b16ca0aa7",
        "colab": {
          "base_uri": "https://localhost:8080/",
          "height": 218
        }
      },
      "source": [
        "History = model.evaluate(\n",
        "    X_test, \n",
        "    y_test,\n",
        "    batch_size = 64, \n",
        "    verbose = 1)\n",
        "History.tail()"
      ],
      "execution_count": 0,
      "outputs": [
        {
          "output_type": "stream",
          "text": [
            "157/157 [==============================] - 19s 119ms/step - loss: 2.5587 - accuracy: 0.9808\n"
          ],
          "name": "stdout"
        },
        {
          "output_type": "error",
          "ename": "AttributeError",
          "evalue": "ignored",
          "traceback": [
            "\u001b[0;31m---------------------------------------------------------------------------\u001b[0m",
            "\u001b[0;31mAttributeError\u001b[0m                            Traceback (most recent call last)",
            "\u001b[0;32m<ipython-input-48-96bb6d741590>\u001b[0m in \u001b[0;36m<module>\u001b[0;34m()\u001b[0m\n\u001b[1;32m      4\u001b[0m     \u001b[0mbatch_size\u001b[0m \u001b[0;34m=\u001b[0m \u001b[0;36m64\u001b[0m\u001b[0;34m,\u001b[0m\u001b[0;34m\u001b[0m\u001b[0;34m\u001b[0m\u001b[0m\n\u001b[1;32m      5\u001b[0m     verbose = 1)\n\u001b[0;32m----> 6\u001b[0;31m \u001b[0mHistory\u001b[0m\u001b[0;34m.\u001b[0m\u001b[0mtail\u001b[0m\u001b[0;34m(\u001b[0m\u001b[0;34m)\u001b[0m\u001b[0;34m\u001b[0m\u001b[0;34m\u001b[0m\u001b[0m\n\u001b[0m",
            "\u001b[0;31mAttributeError\u001b[0m: 'list' object has no attribute 'tail'"
          ]
        }
      ]
    },
    {
      "cell_type": "code",
      "metadata": {
        "id": "-SxTbVLH-Ni4",
        "colab_type": "code",
        "outputId": "d0fa4772-5f09-4455-f2ff-5daa111646c9",
        "colab": {
          "base_uri": "https://localhost:8080/",
          "height": 265
        }
      },
      "source": [
        "names = [layer.name for layer in model.layers\n",
        "                   if 'flipout' in layer.name]\n",
        "qm_vals = [layer.kernel_posterior.mean()\n",
        "                     for layer in model.layers\n",
        "                     if 'flipout' in layer.name]\n",
        "qs_vals = [layer.kernel_posterior.stddev()\n",
        "                     for layer in model.layers\n",
        "                     if 'flipout' in layer.name]\n",
        "\n",
        "\n",
        "    \n",
        "\n",
        "for n, qs in zip(names, qs_vals):\n",
        "    sns.distplot(tf.reshape(qs, shape=[-1]))\n",
        "    "
      ],
      "execution_count": 0,
      "outputs": [
        {
          "output_type": "display_data",
          "data": {
            "image/png": "[encoded data removed]",
            "text/plain": [
              "<Figure size 432x288 with 1 Axes>"
            ]
          },
          "metadata": {
            "tags": [],
            "needs_background": "light"
          }
        }
      ]
    },
    {
      "cell_type": "code",
      "metadata": {
        "id": "Ed6KG2r_UfHm",
        "colab_type": "code",
        "outputId": "2eca725f-b54a-4526-e45b-089c2d6cc592",
        "colab": {
          "base_uri": "https://localhost:8080/",
          "height": 69
        }
      },
      "source": [
        "from google.colab import drive \n",
        "drive.mount('/content/gdrive')\n",
        "%cd /content/gdrive/My\\ Drive/\n",
        "!pwd"
      ],
      "execution_count": 0,
      "outputs": [
        {
          "output_type": "stream",
          "text": [
            "Drive already mounted at /content/gdrive; to attempt to forcibly remount, call drive.mount(\"/content/gdrive\", force_remount=True).\n",
            "/content/gdrive/My Drive\n",
            "/content/gdrive/My Drive\n"
          ],
          "name": "stdout"
        }
      ]
    },
    {
      "cell_type": "code",
      "metadata": {
        "id": "cvuShmmYtNHe",
        "colab_type": "code",
        "colab": {}
      },
      "source": [
        "def plot_heldout_prediction(input_vals, probs, fname, n=10,  title=''):\n",
        "\n",
        " \n",
        "  fig = figure.Figure(figsize=(9, 3*n))\n",
        "  canvas = backend_agg.FigureCanvasAgg(fig) \n",
        "  IMAGE_SHAPE = [28, 28, 1]\n",
        "  for i in range(n):\n",
        "    ax = fig.add_subplot(n, 3, 3*i + 1)\n",
        "    ax.imshow(input_vals[i, :].reshape(IMAGE_SHAPE[:-1]), interpolation='None')\n",
        "\n",
        "    ax = fig.add_subplot(n, 3, 3*i + 2)\n",
        "    for prob_sample in probs:\n",
        "      sns.barplot(np.arange(10), prob_sample[i, :], alpha=0.1, ax=ax)\n",
        "      ax.set_ylim([0, 1])\n",
        "    ax.set_title('posterior samples')\n",
        "\n",
        "    ax = fig.add_subplot(n, 3, 3*i + 3)\n",
        "    sns.barplot(np.arange(10), tf.reduce_mean(probs[:, i, :], axis=0), ax=ax)\n",
        "    ax.set_ylim([0, 1])\n",
        "    ax.set_title('predictive probs')\n",
        "  fig.suptitle(title)\n",
        "  fig.tight_layout()\n",
        "\n",
        "  canvas.print_figure(fname, format='png')\n",
        "  print('saved {}'.format(fname))\n"
      ],
      "execution_count": 0,
      "outputs": []
    },
    {
      "cell_type": "code",
      "metadata": {
        "id": "5DJPNsgPG_Ig",
        "colab_type": "code",
        "outputId": "71b51a25-be34-43fc-94c3-09b7ae5f7d5d",
        "colab": {
          "base_uri": "https://localhost:8080/",
          "height": 35
        }
      },
      "source": [
        " print(' ... Running monte carlo inference')\n",
        "probs = tf.stack([model.predict(X_test, verbose=1) for _ in range(50)], axis=0)\n",
        "mean_probs = tf.reduce_mean(probs, axis=0)\n",
        "heldout_log_prob = tf.reduce_mean(tf.math.log(mean_probs))\n",
        "print(' ... Held-out nats: {:.3f}'.format(heldout_log_prob))\n",
        "epoch=10\n",
        "step=50\n",
        "fname=os.path.join(\"/content/gdrive/My Drive\",'epoch{}_step{}_pred.png'.format(epoch, step))\n",
        "plot_heldout_prediction(X_test, probs, fname,title='mean heldout logprob {:.2f}' .format(heldout_log_prob))\n"
      ],
      "execution_count": 0,
      "outputs": [
        {
          "output_type": "stream",
          "text": [
            "saved /content/gdrive/My Drive/epoch10_step50_pred.png\n"
          ],
          "name": "stdout"
        }
      ]
    },
    {
      "cell_type": "code",
      "metadata": {
        "id": "qLly4-1dz1Cj",
        "colab_type": "code",
        "colab": {}
      },
      "source": [
        "n_mc_run = 100\n",
        "y_pred_logits_list = [model.predict(X_test) for _ in range(n_mc_run)]  # a list of predicted logits\n",
        "from scipy.special import softmax\n",
        "mean_prob_thres = 0.2\n",
        "y_pred_prob_all = np.concatenate([softmax(y, axis=-1)[:,:, np.newaxis] for y in y_pred_logits_list], axis=-1)\n",
        "y_pred = [[int(np.median(y) >= med_prob_thres) for y in y_pred_prob] for y_pred_prob in y_pred_prob_all]\n",
        "y_pred = np.array(y_pred)\n",
        "idx_valid = [any(y) for y in y_pred]\n",
        "print('Number of recognizable samples:', sum(idx_valid))\n",
        "idx_invalid = [not any(y) for y in y_pred]\n",
        "print('Unrecognizable samples:', np.where(idx_invalid)[0])"
      ],
      "execution_count": 0,
      "outputs": []
    },
    {
      "cell_type": "code",
      "metadata": {
        "id": "XNG34qVQDkcn",
        "colab_type": "code",
        "colab": {}
      },
      "source": [
        "import matplotlib.pyplot as plt\n",
        "def plot_pred_hist(y_pred, n_class, n_mc_run, n_bins=30, med_prob_thres=0.2, n_subplot_rows=2, figsize=(25, 10)):\n",
        "    bins = np.logspace(-n_bins, 0, n_bins+1)\n",
        "    fig, ax = plt.subplots(n_subplot_rows, n_class // n_subplot_rows + 1, figsize=figsize)\n",
        "    for i in range(n_subplot_rows):\n",
        "        for j in range(n_class // n_subplot_rows + 1):\n",
        "            idx = i * (n_class // n_subplot_rows + 1) + j\n",
        "            if idx < n_class:\n",
        "                ax[i, j].hist(y_pred[idx], bins)\n",
        "                ax[i, j].set_xscale('log')\n",
        "                ax[i, j].set_ylim([0, n_mc_run])\n",
        "                ax[i, j].title.set_text(\"{} (median prob: {:.2f}) ({})\".format(str(idx),\n",
        "                                                                               np.median(y_pred[idx]),\n",
        "                                                                               str(np.median(y_pred[idx]) >= med_prob_thres)))\n",
        "            else:\n",
        "                ax[i, j].axis('off')\n",
        "    plt.show()\n",
        "\n"
      ],
      "execution_count": 0,
      "outputs": []
    },
    {
      "cell_type": "code",
      "metadata": {
        "id": "oEh7XmQ2F-4X",
        "colab_type": "code",
        "outputId": "22655dd9-6425-45af-ea9b-4258d8751b50",
        "colab": {
          "base_uri": "https://localhost:8080/",
          "height": 779
        }
      },
      "source": [
        "idx = 583\n",
        "plt.imshow(X_test[idx, :, :, 0], cmap='gist_gray')\n",
        "print(\"True label of the test sample {}: {}\".format(idx, np.argmax(y_test[idx], axis=-1)))\n",
        "\n",
        "plot_pred_hist(y_pred_prob_all[idx], n_class, n_mc_run, med_prob_thres=med_prob_thres)\n",
        "\n",
        "if any(y_pred[idx]):\n",
        "    print(\"Predicted label of the test sample {}: {}\".format(idx, np.argmax(y_pred[idx], axis=-1)))\n",
        "else:\n",
        "    print(\"I don't know!\")\n"
      ],
      "execution_count": 0,
      "outputs": [
        {
          "output_type": "stream",
          "text": [
            "True label of the test sample 583: 2\n"
          ],
          "name": "stdout"
        },
        {
          "output_type": "display_data",
          "data": {
            "image/png": "[encoded data removed]",
            "text/plain": [
              "<Figure size 432x288 with 1 Axes>"
            ]
          },
          "metadata": {
            "tags": [],
            "needs_background": "light"
          }
        },
        {
          "output_type": "display_data",
          "data": {
            "image/png": "[encoded data removed]",
            "text/plain": [
              "<Figure size 1800x720 with 12 Axes>"
            ]
          },
          "metadata": {
            "tags": [],
            "needs_background": "light"
          }
        },
        {
          "output_type": "stream",
          "text": [
            "I don't know!\n"
          ],
          "name": "stdout"
        }
      ]
    }
  ]
}